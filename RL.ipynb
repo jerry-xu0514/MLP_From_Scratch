{
 "cells": [
  {
   "cell_type": "code",
   "execution_count": 1,
   "metadata": {},
   "outputs": [],
   "source": [
    "import seaborn as sns\n",
    "import matplotlib.pyplot as plt"
   ]
  },
  {
   "cell_type": "code",
   "execution_count": 2,
   "metadata": {},
   "outputs": [
    {
     "data": {
      "image/png": "[encoded data removed]",
      "text/plain": [
       "<Figure size 432x288 with 1 Axes>"
      ]
     },
     "metadata": {
      "needs_background": "light"
     },
     "output_type": "display_data"
    }
   ],
   "source": [
    "from tkinter import Label\n",
    "\n",
    "\n",
    "bin_x = 0\n",
    "bin_y = 0\n",
    "\n",
    "starting_position_x = -5\n",
    "starting_position_y = -5\n",
    "\n",
    "plt.scatter(bin_x, bin_y, label = \"Bin\")\n",
    "plt.scatter(starting_position_x, starting_position_y, label = \"A\")\n",
    "plt.ylim([-10,10])\n",
    "plt.xlim([-10,10])\n",
    "plt.grid()\n",
    "plt.legend()\n",
    "plt.show()\n",
    "\n"
   ]
  },
  {
   "cell_type": "code",
   "execution_count": 3,
   "metadata": {},
   "outputs": [],
   "source": [
    "import pandas as pd\n",
    "import numpy as np"
   ]
  },
  {
   "cell_type": "code",
   "execution_count": 4,
   "metadata": {},
   "outputs": [],
   "source": [
    "def probability(bin_x, bin_y, state_x, state_y, throw_deg):\n",
    "    probability = 0\n",
    "    if((state_x == bin_x) & (state_y == bin_y)):\n",
    "        probability = 1\n",
    "    else:\n",
    "        \n",
    "        # To accomodate for going over the 0 degree line\n",
    "        if((throw_deg>270) & (state_x<=bin_x) & (state_y<=bin_y)):\n",
    "            throw_deg = throw_deg - 360\n",
    "        elif((throw_deg<90) & (state_x>bin_x) & (state_y<bin_y)):\n",
    "            throw_deg = 360 + throw_deg\n",
    "        else:\n",
    "            throw_deg = throw_deg\n",
    "            \n",
    "        # Calculate Euclidean distance\n",
    "        distance = ((bin_x - state_x)**2 + (bin_y - state_y)**2)**0.5\n",
    "\n",
    "        # max distance for bin will always be on of the 4 corner points:\n",
    "        corner_x = [-10,-10,10,10]\n",
    "        corner_y = [-10,10,-10,10]\n",
    "        dist_table = pd.DataFrame()\n",
    "        for corner in range(0,4):\n",
    "            dist = pd.DataFrame({'distance':((bin_x - corner_x[corner])**2 + (bin_y - corner_y[corner])**2)**0.5}, index = [corner])\n",
    "            dist_table = dist_table.append(dist)\n",
    "        dist_table = dist_table.reset_index()\n",
    "        dist_table = dist_table.sort_values('distance', ascending = False)\n",
    "        max_dist = dist_table['distance'][0]\n",
    "        \n",
    "        distance_score = 1 - (distance/max_dist)\n",
    "\n",
    "\n",
    "        # First if person is directly horizontal or vertical of bin:\n",
    "        if((state_x==bin_x) & (state_y>bin_y)):\n",
    "            direction = 180\n",
    "        elif((state_x==bin_x) & (state_y<bin_y)):\n",
    "             direction = 0\n",
    "        \n",
    "        elif((state_x>bin_x) & (state_y==bin_y)):\n",
    "             direction = 270\n",
    "        elif((state_x<bin_x) & (state_y==bin_y)):\n",
    "             direction = 90\n",
    "              \n",
    "        # If person is north-east of bin:\n",
    "        elif((state_x>bin_x) & (state_y>bin_y)):\n",
    "            opp = abs(bin_x - state_x)\n",
    "            adj = abs(bin_y - state_y)\n",
    "            direction = 180 +  np.degrees(np.arctan(opp/adj))\n",
    "\n",
    "        # If person is south-east of bin:\n",
    "        elif((state_x>bin_x) & (state_y<bin_y)):\n",
    "            opp = abs(bin_y - state_y)\n",
    "            adj = abs(bin_x - state_x)\n",
    "            direction = 270 +  np.degrees(np.arctan(opp/adj))\n",
    "\n",
    "        # If person is south-west of bin:\n",
    "        elif((state_x<bin_x) & (state_y<bin_y)):\n",
    "            opp = abs(bin_x - state_x)\n",
    "            adj = abs(bin_y - state_y)\n",
    "            direction =  np.degrees(np.arctan(opp/adj))\n",
    "\n",
    "        # If person is north-west of bin:\n",
    "        elif((state_x<bin_x) & (state_y>bin_y)):\n",
    "            opp = abs(bin_y - state_y)\n",
    "            adj = abs(bin_x - state_x)\n",
    "            direction = 90 +  np.degrees(np.arctan(opp/adj))\n",
    "\n",
    "        direction_score = (45-abs(direction - throw_deg))/45\n",
    "      \n",
    "        probability = distance_score*direction_score\n",
    "        if(probability>0):\n",
    "            probability = probability\n",
    "        else:\n",
    "            probability = 0\n",
    "        \n",
    "    return(probability)"
   ]
  },
  {
   "cell_type": "code",
   "execution_count": 5,
   "metadata": {},
   "outputs": [],
   "source": [
    "bin_x = 0\n",
    "bin_y = 0\n",
    "\n",
    "starting_position_x = -5\n",
    "starting_position_y = -5\n",
    "\n",
    "test_1 = probability(bin_x, bin_y, starting_position_x, starting_position_y, 50)\n",
    "test_2 = probability(bin_x, bin_y, starting_position_x, starting_position_y, 60)"
   ]
  },
  {
   "cell_type": "code",
   "execution_count": 6,
   "metadata": {},
   "outputs": [
    {
     "name": "stdout",
     "output_type": "stream",
     "text": [
      "Probability of first throw at 50 degrees =  0.4444\n",
      "Probability of second throw at 60 degress =  0.3333\n"
     ]
    }
   ],
   "source": [
    "print(\"Probability of first throw at 50 degrees = \", np.round(test_1,4))\n",
    "print(\"Probability of second throw at 60 degress = \", np.round(test_2,4))"
   ]
  },
  {
   "cell_type": "code",
   "execution_count": 11,
   "metadata": {},
   "outputs": [
    {
     "data": {
      "text/plain": [
       "0.344891721810407"
      ]
     },
     "execution_count": 11,
     "metadata": {},
     "output_type": "execute_result"
    }
   ],
   "source": [
    "\n",
    "probability(bin_x, bin_y, 1, 2, 180)"
   ]
  },
  {
   "cell_type": "code",
   "execution_count": 16,
   "metadata": {},
   "outputs": [
    {
     "ename": "UnboundLocalError",
     "evalue": "local variable 'probability' referenced before assignment",
     "output_type": "error",
     "traceback": [
      "\u001b[0;31m---------------------------------------------------------------------------\u001b[0m",
      "\u001b[0;31mUnboundLocalError\u001b[0m                         Traceback (most recent call last)",
      "\u001b[0;32m/var/folders/pn/q05h89d15svdw59h2wzx1gwm0000gn/T/ipykernel_4327/126362859.py\u001b[0m in \u001b[0;36m<module>\u001b[0;34m\u001b[0m\n\u001b[1;32m      8\u001b[0m     \u001b[0;32mfor\u001b[0m \u001b[0mj\u001b[0m \u001b[0;32min\u001b[0m \u001b[0mrange\u001b[0m\u001b[0;34m(\u001b[0m\u001b[0;36m0\u001b[0m\u001b[0;34m,\u001b[0m\u001b[0;36m20\u001b[0m\u001b[0;34m)\u001b[0m\u001b[0;34m:\u001b[0m\u001b[0;34m\u001b[0m\u001b[0;34m\u001b[0m\u001b[0m\n\u001b[1;32m      9\u001b[0m         \u001b[0mstate_y\u001b[0m \u001b[0;34m=\u001b[0m \u001b[0;34m-\u001b[0m\u001b[0;36m10\u001b[0m \u001b[0;34m+\u001b[0m \u001b[0mj\u001b[0m\u001b[0;34m\u001b[0m\u001b[0;34m\u001b[0m\u001b[0m\n\u001b[0;32m---> 10\u001b[0;31m         \u001b[0mprobab\u001b[0m \u001b[0;34m=\u001b[0m \u001b[0mprobability\u001b[0m\u001b[0;34m(\u001b[0m\u001b[0mbin_x\u001b[0m\u001b[0;34m,\u001b[0m \u001b[0mbin_y\u001b[0m\u001b[0;34m,\u001b[0m \u001b[0mstate_x\u001b[0m\u001b[0;34m,\u001b[0m \u001b[0mstate_y\u001b[0m\u001b[0;34m,\u001b[0m \u001b[0mthrow_direction\u001b[0m\u001b[0;34m)\u001b[0m\u001b[0;34m\u001b[0m\u001b[0;34m\u001b[0m\u001b[0m\n\u001b[0m\u001b[1;32m     11\u001b[0m         \u001b[0mprob\u001b[0m \u001b[0;34m=\u001b[0m \u001b[0mpd\u001b[0m\u001b[0;34m.\u001b[0m\u001b[0mDataFrame\u001b[0m\u001b[0;34m(\u001b[0m\u001b[0;34m{\u001b[0m\u001b[0;34m'x'\u001b[0m\u001b[0;34m:\u001b[0m\u001b[0mstate_x\u001b[0m\u001b[0;34m,\u001b[0m\u001b[0;34m'y'\u001b[0m\u001b[0;34m:\u001b[0m\u001b[0mstate_y\u001b[0m\u001b[0;34m,\u001b[0m\u001b[0;34m'prob'\u001b[0m\u001b[0;34m:\u001b[0m \u001b[0mprobab\u001b[0m\u001b[0;34m}\u001b[0m\u001b[0;34m,\u001b[0m \u001b[0mindex\u001b[0m \u001b[0;34m=\u001b[0m \u001b[0;34m[\u001b[0m\u001b[0;36m0\u001b[0m\u001b[0;34m]\u001b[0m\u001b[0;34m)\u001b[0m\u001b[0;34m\u001b[0m\u001b[0;34m\u001b[0m\u001b[0m\n\u001b[1;32m     12\u001b[0m         \u001b[0mprob_table\u001b[0m \u001b[0;34m=\u001b[0m \u001b[0mprob_table\u001b[0m\u001b[0;34m.\u001b[0m\u001b[0mappend\u001b[0m\u001b[0;34m(\u001b[0m\u001b[0mprob\u001b[0m\u001b[0;34m)\u001b[0m\u001b[0;34m\u001b[0m\u001b[0;34m\u001b[0m\u001b[0m\n",
      "\u001b[0;32m/var/folders/pn/q05h89d15svdw59h2wzx1gwm0000gn/T/ipykernel_4327/1813386195.py\u001b[0m in \u001b[0;36mprobability\u001b[0;34m(bin_x, bin_y, state_x, state_y, throw_deg)\u001b[0m\n\u001b[1;32m     72\u001b[0m             \u001b[0mprobability\u001b[0m \u001b[0;34m=\u001b[0m \u001b[0;36m0\u001b[0m\u001b[0;34m\u001b[0m\u001b[0;34m\u001b[0m\u001b[0m\n\u001b[1;32m     73\u001b[0m \u001b[0;34m\u001b[0m\u001b[0m\n\u001b[0;32m---> 74\u001b[0;31m     \u001b[0;32mreturn\u001b[0m\u001b[0;34m(\u001b[0m\u001b[0mprobability\u001b[0m\u001b[0;34m)\u001b[0m\u001b[0;34m\u001b[0m\u001b[0;34m\u001b[0m\u001b[0m\n\u001b[0m",
      "\u001b[0;31mUnboundLocalError\u001b[0m: local variable 'probability' referenced before assignment"
     ]
    }
   ],
   "source": [
    "bin_x = 0\n",
    "bin_y = 0\n",
    "throw_direction = 180\n",
    "\n",
    "prob_table = pd.DataFrame()\n",
    "for i in range(0,20):\n",
    "    state_x = -10 + i\n",
    "    for j in range(0,20):\n",
    "        state_y = -10 + j\n",
    "        probab = probability(bin_x, bin_y, state_x, state_y, throw_direction)\n",
    "        prob = pd.DataFrame({'x':state_x,'y':state_y,'prob': probab}, index = [0])\n",
    "        prob_table = prob_table.append(prob)\n",
    "prob_table = prob_table.reset_index()\n",
    "\n",
    "\n",
    "plt.scatter(prob_table['x'], prob_table['y'], s=prob_table['prob']*400, alpha=0.5)\n",
    "plt.ylim([-10,10])\n",
    "plt.xlim([-10,10])\n",
    "plt.grid()\n",
    "plt.title(\"Probability of Landing Shot for a given Thrown Direction: \\n \" + str(throw_direction)+\" degrees\")\n",
    "plt.show()"
   ]
  },
  {
   "cell_type": "code",
   "execution_count": 2,
   "metadata": {},
   "outputs": [],
   "source": [
    "import numpy as np"
   ]
  },
  {
   "cell_type": "code",
   "execution_count": 4,
   "metadata": {},
   "outputs": [],
   "source": [
    "thing = np.array([[1, 2, 4, 5]])\n",
    "\n"
   ]
  },
  {
   "cell_type": "code",
   "execution_count": 7,
   "metadata": {},
   "outputs": [
    {
     "data": {
      "text/plain": [
       "matrix([[ 1,  0,  1,  2,  3,  4,  5,  6,  7,  8,  9],\n",
       "        [ 1, 10, 11, 12, 13, 14, 15, 16, 17, 18, 19],\n",
       "        [ 1, 20, 21, 22, 23, 24, 25, 26, 27, 28, 29],\n",
       "        [ 1, 30, 31, 32, 33, 34, 35, 36, 37, 38, 39],\n",
       "        [ 1, 40, 41, 42, 43, 44, 45, 46, 47, 48, 49],\n",
       "        [ 1, 50, 51, 52, 53, 54, 55, 56, 57, 58, 59],\n",
       "        [ 1, 60, 61, 62, 63, 64, 65, 66, 67, 68, 69],\n",
       "        [ 1, 70, 71, 72, 73, 74, 75, 76, 77, 78, 79],\n",
       "        [ 1, 80, 81, 82, 83, 84, 85, 86, 87, 88, 89],\n",
       "        [ 1, 90, 91, 92, 93, 94, 95, 96, 97, 98, 99]])"
      ]
     },
     "execution_count": 7,
     "metadata": {},
     "output_type": "execute_result"
    }
   ],
   "source": [
    "adding = np.matrix([1]*10).T\n",
    "thing = np.arange(100).reshape(10,10)\n",
    "x = np.hstack((adding, thing))\n",
    "x\n"
   ]
  },
  {
   "cell_type": "code",
   "execution_count": 13,
   "metadata": {},
   "outputs": [
    {
     "name": "stdout",
     "output_type": "stream",
     "text": [
      "1\n",
      "1\n",
      "1\n",
      "1\n",
      "1\n",
      "1\n",
      "1\n",
      "1\n",
      "1\n",
      "1\n"
     ]
    }
   ],
   "source": [
    "for i in x:\n",
    "    for l in i:\n",
    "        print(l.item(0))\n",
    "        break"
   ]
  }
 ],
 "metadata": {
  "kernelspec": {
   "display_name": "Python 3.9.7 ('base')",
   "language": "python",
   "name": "python3"
  },
  "language_info": {
   "codemirror_mode": {
    "name": "ipython",
    "version": 3
   },
   "file_extension": ".py",
   "mimetype": "text/x-python",
   "name": "python",
   "nbconvert_exporter": "python",
   "pygments_lexer": "ipython3",
   "version": "3.9.7"
  },
  "orig_nbformat": 4,
  "vscode": {
   "interpreter": {
    "hash": "343f69c4a5479ad145a13ef60ebe38c81601cd955d0faaec9ff0967a5b4911cb"
   }
  }
 },
 "nbformat": 4,
 "nbformat_minor": 2
}
